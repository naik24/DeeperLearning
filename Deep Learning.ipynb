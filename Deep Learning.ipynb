{
 "cells": [
  {
   "cell_type": "markdown",
   "id": "fcd55c6d",
   "metadata": {},
   "source": [
    "<center><h1>Deep Learning</h1></center>"
   ]
  },
  {
   "cell_type": "markdown",
   "id": "bc952075",
   "metadata": {},
   "source": [
    "<center><h2>Introduction</h2></center>\n",
    "\n",
    "To define deep learning and understand the difference between deep learning and other machine learning approaches, first we need some idea of what machine learning algorithms do. To perform machine learning, we need 3 things:\n",
    "\n",
    "- Input data points\n",
    "- Examples of expected output\n",
    "- Measure of Performance\n",
    "\n",
    "A machine learning model transforms its input data into meaningful outputs, a process that is learned from exposure to known examples of inputs and outputs. Therefore, the central problem in machine learning and deep learning is to meaningfully transform data: in other words, to learn useful representations of the input data at hand. But what is a representation? At its core, it's a different way to look at data - to represent or encode data. For instance, a color image can be encoded in the RGB format or in the HSV format: these are two representations of the same data. Machine learning models are all about finding appropriate representations for their input data - transformations of the data that make it more amenable to the task at hand, such as a classification task.\n",
    "\n",
    "*Machine learning is technically: searching for useful representations of some input data, within a predefined space of possibilities, using guidance from a feedback signal.*"
   ]
  }
 ],
 "metadata": {
  "kernelspec": {
   "display_name": "Python 3 (ipykernel)",
   "language": "python",
   "name": "python3"
  },
  "language_info": {
   "codemirror_mode": {
    "name": "ipython",
    "version": 3
   },
   "file_extension": ".py",
   "mimetype": "text/x-python",
   "name": "python",
   "nbconvert_exporter": "python",
   "pygments_lexer": "ipython3",
   "version": "3.10.0"
  }
 },
 "nbformat": 4,
 "nbformat_minor": 5
}

{
 "cells": [
  {
   "cell_type": "markdown",
   "id": "fcd55c6d",
   "metadata": {},
   "source": [
    "# Deep Learning\n",
    "\n",
    "### [1. Introduction](#introduction)"
   ]
  },
  {
   "cell_type": "markdown",
   "id": "bc952075",
   "metadata": {},
   "source": [
    "## <a id=\"introduction\">1. Introduction </a>\n",
    "\n",
    "To define deep learning and understand the difference between deep learning and other machine learning approaches, first we need some idea of what machine learning algorithms do. To perform machine learning, we need 3 things:\n",
    "\n",
    "- Input data points\n",
    "- Examples of expected output\n",
    "- Measure of Performance\n",
    "\n",
    "A machine learning model transforms its input data into meaningful outputs, a process that is learned from exposure to known examples of inputs and outputs. Therefore, the central problem in machine learning and deep learning is to meaningfully transform data: in other words, to learn useful representations of the input data at hand. But what is a representation? At its core, it's a different way to look at data - to represent or encode data. For instance, a color image can be encoded in the RGB format or in the HSV format: these are two representations of the same data. Machine learning models are all about finding appropriate representations for their input data - transformations of the data that make it more amenable to the task at hand, such as a classification task.\n",
    "\n",
    "*Machine learning is technically: searching for useful representations of some input data, within a predefined space of possibilities, using guidance from a feedback signal.*\n",
    "\n",
    "**1.1 Deep Learning**\n",
    "Deep Learning is a new take on learning representations from data that puts an emphasis on learning successive layers of increasing meaningful representations.The number of layers contributing to the model define the *depth* of the model. The layered representations are learned via models called neural networks, structured in literal layers stacked on top of each other. \n",
    "\n",
    "*Deep Learning is technically: a multistage way to learn data representations.*\n",
    "\n",
    "**1.1.1 Understanding how Deep Learning works**\n",
    "The specification of what a layer does to its input data is stored in the layer's *weights*, which in essence are a bunch of numbers. In technical terms, we'd say that the transformation implemented by a layer is *parameterized* by its weights. In this context, learning means finding a set of values for the weights of all layers in a network, such that the network will map example inputs to their associated targets. \n",
    "\n",
    "To control a neural network, you need to be able to measure how far this output is from what we expected. This is done by a *loss function*, also called as *objective function*. The loss function takes the predictions of the network and the true target and computes a distance score. \n",
    "\n",
    "The fundamental trick in deep learning is to use this score as a feedback signal to adjust the value of the weights a little, in a direction that will lower the loss score for the current example. This adjustment is done by an *optimizer*, which implements what's called the *backprop* algorithm."
   ]
  }
 ],
 "metadata": {
  "kernelspec": {
   "display_name": "Python 3 (ipykernel)",
   "language": "python",
   "name": "python3"
  },
  "language_info": {
   "codemirror_mode": {
    "name": "ipython",
    "version": 3
   },
   "file_extension": ".py",
   "mimetype": "text/x-python",
   "name": "python",
   "nbconvert_exporter": "python",
   "pygments_lexer": "ipython3",
   "version": "3.10.0"
  }
 },
 "nbformat": 4,
 "nbformat_minor": 5
}
